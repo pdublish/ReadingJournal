{
 "cells": [
  {
   "cell_type": "markdown",
   "metadata": {},
   "source": [
    "# Day 8 Reading Journal\n",
    "\n",
    "This journal includes several required exercises, but it is meant to encourage active reading more generally.  You should use the journal to take detailed notes, catalog questions, and explore the content from Think Python deeply.\n",
    "\n",
    "Reading: Think Python Chapter 12\n",
    "\n",
    "**Due: Thursday, September 29 at 12 noon**\n"
   ]
  },
  {
   "cell_type": "markdown",
   "metadata": {},
   "source": [
    "## [Chapter 12](http://www.greenteapress.com/thinkpython/html/thinkpython013.html)"
   ]
  },
  {
   "cell_type": "markdown",
   "metadata": {},
   "source": [
    "### Exercise 2 \n",
    "Exercise 12.2. In this example, ties are broken by comparing words, so words with the same length appear in reverse alphabetical order. For other applications you might want to break ties at ran- dom. Modify this example so that words with the same length appear in random order. Hint: see the random function in the random module."
   ]
  },
  {
   "cell_type": "code",
   "execution_count": 2,
   "metadata": {
    "collapsed": false
   },
   "outputs": [
    {
     "data": {
      "text/plain": [
       "['wonderful', 'tiggers', 'about', 'thing', 'The']"
      ]
     },
     "execution_count": 2,
     "metadata": {},
     "output_type": "execute_result"
    }
   ],
   "source": [
    "import random \n",
    "\n",
    "def sort_by_length(words):\n",
    "    t = []\n",
    "    for word in words:\n",
    "       t.append((len(word),random.random(), word))\n",
    "    t.sort(reverse=True)\n",
    "    res = []\n",
    "    for length,_, word in t:\n",
    "        res.append(word)\n",
    "    return res\n",
    "\n",
    "sort_by_length([\"The\", \"wonderful\", \"thing\", \"about\", \"tiggers\"])"
   ]
  },
  {
   "cell_type": "markdown",
   "metadata": {},
   "source": [
    "### Exercise 4\n",
    "\n",
    "1. Write a program that reads a word list from a file (see Section 9.1) and prints all the sets of\n",
    "words that are anagrams.\n",
    "Here is an example of what the output might look like:\n",
    "\n",
    "     ['deltas', 'desalt', 'lasted', 'salted', 'slated', 'staled']\n",
    "     ['retainers', 'ternaries']\n",
    "     ['generating', 'greatening']\n",
    "     ['resmelts', 'smelters', 'termless']\n",
    "\n",
    "Hint: you might want to build a dictionary that maps from a set of letters to a list of words that can be spelled with those letters. The question is, how can you represent the set of letters in a way that can be used as a key?"
   ]
  },
  {
   "cell_type": "code",
   "execution_count": 3,
   "metadata": {
    "collapsed": false
   },
   "outputs": [
    {
     "name": "stdout",
     "output_type": "stream",
     "text": [
      "1) aerrs: ['raser', 'rears']\n",
      "2) adeeoprrsv: ['overprased', 'overspread']\n",
      "3) aerrw: ['rawer', 'warer']\n",
      "4) aerrt: ['rater', 'tarre', 'terra']\n",
      "5) abceorsst: ['cabestros', 'cabrestos']\n"
     ]
    }
   ],
   "source": [
    "from collections import defaultdict\n",
    "\n",
    "with open('words.txt', 'r') as fd:\n",
    "    words = fd.read().splitlines()\n",
    "\n",
    "\n",
    "def make_anagram_dict(word_list):\n",
    "    result = defaultdict(list)\n",
    "    for word in word_list:\n",
    "        fp = ''.join(sorted(word))\n",
    "        result[fp].append(word)\n",
    "\n",
    "    result = {fp: result[fp] for fp in result if len(result[fp]) > 1}\n",
    "    return result\n",
    "\n",
    "\n",
    "anagrams = make_anagram_dict(words)\n",
    "\n",
    "\n",
    "def print_anagrams(anagrams):\n",
    "    fp = (fp for fp in anagrams)\n",
    "    for i in range(1, 6):\n",
    "        fp_next = fp.next()\n",
    "        print \"%s) %s:\" % (i, fp_next), anagrams[fp_next]\n",
    "\n",
    "\n",
    "print_anagrams(anagrams)"
   ]
  },
  {
   "cell_type": "markdown",
   "metadata": {},
   "source": [
    "2\\. Modify the previous program so that it prints the largest set of anagrams first, followed by the second largest set, and so on."
   ]
  },
  {
   "cell_type": "code",
   "execution_count": 7,
   "metadata": {
    "collapsed": false
   },
   "outputs": [
    {
     "name": "stdout",
     "output_type": "stream",
     "text": [
      "1) 11 ['alerts', 'alters', 'artels', 'estral', 'laster', 'ratels', 'salter', 'slater', 'staler', 'stelar', 'talers']\n",
      "2) 11 ['apers', 'asper', 'pares', 'parse', 'pears', 'prase', 'presa', 'rapes', 'reaps', 'spare', 'spear']\n",
      "3) 10 ['least', 'setal', 'slate', 'stale', 'steal', 'stela', 'taels', 'tales', 'teals', 'tesla']\n",
      "4) 9 ['capers', 'crapes', 'escarp', 'pacers', 'parsec', 'recaps', 'scrape', 'secpar', 'spacer']\n",
      "5) 9 ['estrin', 'inerts', 'insert', 'inters', 'niters', 'nitres', 'sinter', 'triens', 'trines']\n"
     ]
    }
   ],
   "source": [
    "def sort_anagrams(anagrams):\n",
    "    anagrams_lists = []\n",
    "    for fp in anagrams:\n",
    "        anagrams_lists.append(anagrams[fp])\n",
    "    anagrams_lists.sort(key=len, reverse=True)\n",
    "    for i in range(0, 5):\n",
    "        print \"%s) %d\" % ((i + 1), len(anagrams_lists[i])), anagrams_lists[i]\n",
    "        \n",
    "sort_anagrams(anagrams)"
   ]
  },
  {
   "cell_type": "markdown",
   "metadata": {},
   "source": [
    "3\\. In Scrabble a “bingo” is when you play all seven tiles in your rack, along with a letter on the board, to form an eight-letter word. What set of 8 letters forms the most possible bingos? Hint: there are seven."
   ]
  },
  {
   "cell_type": "code",
   "execution_count": 8,
   "metadata": {
    "collapsed": false
   },
   "outputs": [
    {
     "name": "stdout",
     "output_type": "stream",
     "text": [
      "1) 7: aeginrst ['painters', 'pantries', 'pertains', 'pinaster', 'pristane', 'repaints']\n",
      "2) 6: aeinprst ['painters', 'pantries', 'pertains', 'pinaster', 'pristane', 'repaints']\n",
      "3) 6: aeegnrst ['painters', 'pantries', 'pertains', 'pinaster', 'pristane', 'repaints']\n",
      "4) 6: aegilnrs ['painters', 'pantries', 'pertains', 'pinaster', 'pristane', 'repaints']\n",
      "5) 6: aegilnrt ['painters', 'pantries', 'pertains', 'pinaster', 'pristane', 'repaints']\n"
     ]
    }
   ],
   "source": [
    "def find_bingos(anagrams):\n",
    "    candidates = [anagrams[key] for key in anagrams if len(key) == 8]\n",
    "    candidates.sort(key=len, reverse=True)\n",
    "    for i in range(0, 5):\n",
    "        fp = ''.join(sorted(candidates[i][0]))\n",
    "        print \"%s) %d: %s\" % ((i + 1), len(candidates[i]), fp), candidates[1]\n",
    "\n",
    "find_bingos(anagrams)"
   ]
  },
  {
   "cell_type": "markdown",
   "metadata": {},
   "source": [
    "# Quick poll\n",
    "About how long did you spend working on this Reading Journal?"
   ]
  },
  {
   "cell_type": "code",
   "execution_count": null,
   "metadata": {
    "collapsed": true
   },
   "outputs": [],
   "source": [
    "2.5 hours "
   ]
  },
  {
   "cell_type": "markdown",
   "metadata": {},
   "source": [
    " "
   ]
  }
 ],
 "metadata": {
  "anaconda-cloud": {},
  "kernelspec": {
   "display_name": "Python 2",
   "language": "python",
   "name": "python2"
  },
  "language_info": {
   "codemirror_mode": {
    "name": "ipython",
    "version": 2
   },
   "file_extension": ".py",
   "mimetype": "text/x-python",
   "name": "python",
   "nbconvert_exporter": "python",
   "pygments_lexer": "ipython2",
   "version": "2.7.12"
  }
 },
 "nbformat": 4,
 "nbformat_minor": 0
}
