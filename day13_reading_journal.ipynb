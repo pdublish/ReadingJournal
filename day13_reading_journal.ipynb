{
 "cells": [
  {
   "cell_type": "markdown",
   "metadata": {},
   "source": [
    "# Day 13 Reading Journal\n",
    "\n",
    "This journal includes review questions relating to Think Python Chapter 16.\n",
    "\n",
    "**Due: Thursday, October 20 at 12 noon**"
   ]
  },
  {
   "cell_type": "markdown",
   "metadata": {},
   "source": [
    "## Exercise 16-1.\n",
    "Write a function called `print_time` that takes a Time object and prints it in the form `hour:minute:second`.\n",
    "Hint: the format sequence `'%.2d'` prints an integer using at least two digits, including a leading zero if necessary."
   ]
  },
  {
   "cell_type": "code",
   "execution_count": 6,
   "metadata": {
    "collapsed": false
   },
   "outputs": [
    {
     "name": "stdout",
     "output_type": "stream",
     "text": [
      "11:59:30\n"
     ]
    }
   ],
   "source": [
    "import os\n",
    "import sys\n",
    "\n",
    "class Time(object):\n",
    "    \"\"\"Represents the time of day.\n",
    "    attributes: hour, minute, second\n",
    "    \"\"\"\n",
    "\n",
    "def print_time(time_obj):\n",
    "    hour, minute, second = time_obj.hour, time_obj.minute, time_obj.second\n",
    "    # Use join to quickly print out string colon separate\n",
    "    print ':'.join([str(hour), str(minute), str(second)])\n",
    "    \n",
    "def main():\n",
    "    my_time = Time()\n",
    "    my_time.hour = 11\n",
    "    my_time.minute = 59\n",
    "    my_time.second = 30\n",
    "    print_time(my_time)\n",
    "\n",
    "if __name__ == '__main__':\n",
    "    main()"
   ]
  },
  {
   "cell_type": "markdown",
   "metadata": {},
   "source": [
    "## Exercise 16-2\n",
    "Write a boolean function called `is_after` that takes two Time objects, `t1` and `t2`, and returns `True` if `t1` follows `t2` chronologically and `False` otherwise.\n",
    "\n",
    "Challenge: don’t use an `if` statement."
   ]
  },
  {
   "cell_type": "code",
   "execution_count": 7,
   "metadata": {
    "collapsed": false
   },
   "outputs": [
    {
     "name": "stdout",
     "output_type": "stream",
     "text": [
      "False\n"
     ]
    }
   ],
   "source": [
    "import sys\n",
    "import os\n",
    "\n",
    "\n",
    "class Time(object):\n",
    "    \"\"\"Represents the time of day.\n",
    "        attributes: hour, minute, second\n",
    "    \"\"\"\n",
    "\n",
    "\n",
    "def compute_scalar_time(time_obj):\n",
    "    return time_obj.hour + (time_obj.minute / 60) + (time_obj.second / 3600)\n",
    "\n",
    "\n",
    "def is_after(time_obj_1, time_obj_2):\n",
    "    hour_1, minute_1, second_1 = time_obj_1.hour, time_obj_1.minute, time_obj_1.second\n",
    "    hour_2, minute_2, second_2 = time_obj_2.hour, time_obj_2.minute, time_obj_2.second\n",
    "    return compute_scalar_time(time_obj_1) < compute_scalar_time(time_obj_2)\n",
    "\n",
    "\n",
    "def main():\n",
    "    t1 = Time()\n",
    "    t1.hour = 12\n",
    "    t1.minute = 59\n",
    "    t1.second = 30\n",
    "\n",
    "    t2 = Time()\n",
    "    t2.hour = 11\n",
    "    t2.minute = 59\n",
    "    t2.second = 30    \n",
    "    print is_after(t1, t2)\n",
    "\n",
    "if __name__ == '__main__':\n",
    "    main()"
   ]
  },
  {
   "cell_type": "markdown",
   "metadata": {},
   "source": [
    "## Modifiers\n",
    "Complete the code below, such that it demonstrates:\n",
    "\n",
    "* `increment` behaving as specified\n",
    "* `increment` with incorrect behavior"
   ]
  },
  {
   "cell_type": "code",
   "execution_count": 7,
   "metadata": {
    "collapsed": true
   },
   "outputs": [],
   "source": [
    "class Time(object):\n",
    "    \"\"\"Represents the time of day.\n",
    "    attributes: hour, minute, second\n",
    "    \"\"\"\n",
    "\n",
    "    def increment(time, seconds):\n",
    "        time.second += seconds\n",
    "        if time.second >= 60:\n",
    "            time.second -= 60\n",
    "            time.minute += 1\n",
    "        if time.minute >= 60:\n",
    "            time.minute -= 60\n",
    "            time.hour += 1\n",
    "\n",
    "t1 = None # modify this line to create a new instance of Time\n",
    "\n",
    "# modify this line to increment t1 by 45 seconds\n",
    "# modify this line to print the attributes of t1, to show that it has been correctly incremented\n",
    "\n",
    "t2 = None # modify this line to create another instance of Time\n",
    "# modify this line to increment t2\n",
    "# modify this line to demonstrate that the previous call to increment behaved incorrectly"
   ]
  },
  {
   "cell_type": "markdown",
   "metadata": {},
   "source": [
    "## Exercise 16-3 (adapted)\n",
    "Fix `increment`, and demonstrate that has the correct behavior in the case that was a problem above.\n",
    "\n",
    "Unlike the version of this question in Think Python, you are allowed (but not required) to use loops."
   ]
  },
  {
   "cell_type": "code",
   "execution_count": 6,
   "metadata": {
    "collapsed": false
   },
   "outputs": [],
   "source": [
    "class Time(object):\n",
    "    \"\"\"Represents the time of day.\n",
    "    attributes: hour, minute, second\n",
    "    \"\"\"\n",
    "\n",
    "    def increment(time, seconds):\n",
    "        time.second += seconds\n",
    "        if time.second >= 60:\n",
    "            time.second -= 60\n",
    "            time.minute += 1\n",
    "        if time.minute >= 60:\n",
    "            time.minute -= 60\n",
    "            time.hour += 1\n",
    "\n",
    "t2 = None # modify this line to create another instance of Time\n",
    "# modify this line to increment t2 by the same value as in the previous question\n",
    "# modify this line to demonstrate that the previous call to increment behaved incorrectly"
   ]
  },
  {
   "cell_type": "markdown",
   "metadata": {},
   "source": [
    "## PyGame Tutorial\n",
    "Add a link to the PyGame tutorial that you studied.\n",
    "\n",
    "Write a sentence (or more) that summarize the main points of the tutorial."
   ]
  },
  {
   "cell_type": "markdown",
   "metadata": {},
   "source": [
    "http://pygame.org/project-pygame_cards-3008-.html\n",
    "This tutorial utilized a package to create  a card game. I thought this was good to know because it means that its possible htat there are packages that we can use to simplify the creation of our own game as well. It was also interesting to see the different classes that had to be created to run the code. Looking at these helped me get a better of idea of what to do for my own project"
   ]
  },
  {
   "cell_type": "markdown",
   "metadata": {},
   "source": [
    "# Quick poll\n",
    "About how long did you spend working on this Reading Journal?"
   ]
  },
  {
   "cell_type": "markdown",
   "metadata": {
    "collapsed": true
   },
   "source": [
    "I missed the last class because I was sick. I'm having difficulty with the last two problems and would like to updated those in class with guidance from the ninjas"
   ]
  },
  {
   "cell_type": "markdown",
   "metadata": {},
   "source": [
    " "
   ]
  }
 ],
 "metadata": {
  "anaconda-cloud": {},
  "kernelspec": {
   "display_name": "Python 2",
   "language": "python",
   "name": "python2"
  },
  "language_info": {
   "codemirror_mode": {
    "name": "ipython",
    "version": 2
   },
   "file_extension": ".py",
   "mimetype": "text/x-python",
   "name": "python",
   "nbconvert_exporter": "python",
   "pygments_lexer": "ipython2",
   "version": "2.7.12"
  }
 },
 "nbformat": 4,
 "nbformat_minor": 0
}
